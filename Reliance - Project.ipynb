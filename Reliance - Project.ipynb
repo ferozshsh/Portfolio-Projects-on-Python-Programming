{
 "cells": [
  {
   "cell_type": "markdown",
   "id": "e6cfbd07",
   "metadata": {},
   "source": [
    "# Logistic Regression in Machine Learning "
   ]
  },
  {
   "cell_type": "markdown",
   "id": "f8962090",
   "metadata": {},
   "source": [
    "* Logistic regression is one of the most popular Machine Learning algorithms, which comes under the Supervised Learning technique. It is used for predicting the categorical dependent variable using a given set of independent variables.\n",
    "* Logistic regression predicts the output of a categorical dependent variable. Therefore the outcome must be a categorical or discrete value. It can be either Yes or No, 0 or 1, true or False, etc. but instead of giving the exact value as 0 and 1, it gives the probabilistic values which lie between 0 and 1.\n",
    "* Logistic Regression is much similar to the Linear Regression except that how they are used. Linear Regression is used for solving Regression problems, whereas Logistic regression is used for solving the classification problems.\n",
    "\n",
    "Assumptions for Logistic Regression:\n",
    "* The dependent variable must be categorical in nature.\n",
    "* The independent variable should not have multi-collinearity.\n",
    "\n",
    "Formula:\n",
    "y = m1.x1+m2.x2+....+mn.xn+c\n"
   ]
  },
  {
   "cell_type": "code",
   "execution_count": 11,
   "id": "ca3ad50e",
   "metadata": {},
   "outputs": [],
   "source": [
    "# Libraries\n",
    "\n",
    "import numpy as np\n",
    "import pandas as pd\n",
    "import matplotlib.pyplot as plt\n",
    "%matplotlib inline\n",
    "\n",
    "from matplotlib.pyplot import figure\n",
    "import seaborn as sns"
   ]
  },
  {
   "cell_type": "code",
   "execution_count": 2,
   "id": "e3392194",
   "metadata": {},
   "outputs": [],
   "source": [
    "# Reading CSV files\n",
    "\n",
    "df_demo = pd.read_csv('F:\\MBA PVPSIT\\MBA Final\\Reliance Project\\Excel Files\\Reliance_Demographic.csv')"
   ]
  },
  {
   "cell_type": "code",
   "execution_count": 13,
   "id": "6ff84921",
   "metadata": {},
   "outputs": [
    {
     "data": {
      "text/html": [
       "<div>\n",
       "<style scoped>\n",
       "    .dataframe tbody tr th:only-of-type {\n",
       "        vertical-align: middle;\n",
       "    }\n",
       "\n",
       "    .dataframe tbody tr th {\n",
       "        vertical-align: top;\n",
       "    }\n",
       "\n",
       "    .dataframe thead th {\n",
       "        text-align: right;\n",
       "    }\n",
       "</style>\n",
       "<table border=\"1\" class=\"dataframe\">\n",
       "  <thead>\n",
       "    <tr style=\"text-align: right;\">\n",
       "      <th></th>\n",
       "      <th>Name</th>\n",
       "      <th>Age</th>\n",
       "      <th>Gender</th>\n",
       "      <th>Education</th>\n",
       "      <th>Occupation</th>\n",
       "      <th>Income</th>\n",
       "      <th>Digital_India_Awarness</th>\n",
       "      <th>Area</th>\n",
       "    </tr>\n",
       "  </thead>\n",
       "  <tbody>\n",
       "    <tr>\n",
       "      <th>0</th>\n",
       "      <td>Yamijala Suryanarayana Murthy</td>\n",
       "      <td>27</td>\n",
       "      <td>1</td>\n",
       "      <td>4</td>\n",
       "      <td>2</td>\n",
       "      <td>302615</td>\n",
       "      <td>Yes</td>\n",
       "      <td>2</td>\n",
       "    </tr>\n",
       "    <tr>\n",
       "      <th>1</th>\n",
       "      <td>Mr.MARUSANI GOVARDHAN REDDY</td>\n",
       "      <td>32</td>\n",
       "      <td>1</td>\n",
       "      <td>3</td>\n",
       "      <td>2</td>\n",
       "      <td>556992</td>\n",
       "      <td>Yes</td>\n",
       "      <td>1</td>\n",
       "    </tr>\n",
       "    <tr>\n",
       "      <th>2</th>\n",
       "      <td>Deepthi</td>\n",
       "      <td>32</td>\n",
       "      <td>2</td>\n",
       "      <td>3</td>\n",
       "      <td>1</td>\n",
       "      <td>440355</td>\n",
       "      <td>Yes</td>\n",
       "      <td>1</td>\n",
       "    </tr>\n",
       "    <tr>\n",
       "      <th>3</th>\n",
       "      <td>Santhosh Kumar</td>\n",
       "      <td>36</td>\n",
       "      <td>1</td>\n",
       "      <td>2</td>\n",
       "      <td>1</td>\n",
       "      <td>494852</td>\n",
       "      <td>Yes</td>\n",
       "      <td>1</td>\n",
       "    </tr>\n",
       "    <tr>\n",
       "      <th>4</th>\n",
       "      <td>Purnima</td>\n",
       "      <td>35</td>\n",
       "      <td>2</td>\n",
       "      <td>2</td>\n",
       "      <td>1</td>\n",
       "      <td>208228</td>\n",
       "      <td>Yes</td>\n",
       "      <td>1</td>\n",
       "    </tr>\n",
       "    <tr>\n",
       "      <th>5</th>\n",
       "      <td>G.hima sri</td>\n",
       "      <td>35</td>\n",
       "      <td>2</td>\n",
       "      <td>2</td>\n",
       "      <td>1</td>\n",
       "      <td>238130</td>\n",
       "      <td>Yes</td>\n",
       "      <td>1</td>\n",
       "    </tr>\n",
       "    <tr>\n",
       "      <th>6</th>\n",
       "      <td>Amina Kausar</td>\n",
       "      <td>33</td>\n",
       "      <td>2</td>\n",
       "      <td>3</td>\n",
       "      <td>1</td>\n",
       "      <td>556992</td>\n",
       "      <td>Yes</td>\n",
       "      <td>2</td>\n",
       "    </tr>\n",
       "    <tr>\n",
       "      <th>7</th>\n",
       "      <td>Kuppiraju Navyakumari</td>\n",
       "      <td>31</td>\n",
       "      <td>2</td>\n",
       "      <td>3</td>\n",
       "      <td>1</td>\n",
       "      <td>346405</td>\n",
       "      <td>Yes</td>\n",
       "      <td>2</td>\n",
       "    </tr>\n",
       "    <tr>\n",
       "      <th>8</th>\n",
       "      <td>Gubbala Venkata Nagendra</td>\n",
       "      <td>32</td>\n",
       "      <td>1</td>\n",
       "      <td>3</td>\n",
       "      <td>1</td>\n",
       "      <td>556992</td>\n",
       "      <td>Yes</td>\n",
       "      <td>2</td>\n",
       "    </tr>\n",
       "    <tr>\n",
       "      <th>9</th>\n",
       "      <td>Tripuraneni Sai Hari Chandra prasad</td>\n",
       "      <td>36</td>\n",
       "      <td>1</td>\n",
       "      <td>3</td>\n",
       "      <td>1</td>\n",
       "      <td>307165</td>\n",
       "      <td>Yes</td>\n",
       "      <td>2</td>\n",
       "    </tr>\n",
       "  </tbody>\n",
       "</table>\n",
       "</div>"
      ],
      "text/plain": [
       "                                  Name  Age  Gender  Education  Occupation  \\\n",
       "0        Yamijala Suryanarayana Murthy   27       1          4           2   \n",
       "1          Mr.MARUSANI GOVARDHAN REDDY   32       1          3           2   \n",
       "2                              Deepthi   32       2          3           1   \n",
       "3                       Santhosh Kumar   36       1          2           1   \n",
       "4                              Purnima   35       2          2           1   \n",
       "5                           G.hima sri   35       2          2           1   \n",
       "6                         Amina Kausar   33       2          3           1   \n",
       "7               Kuppiraju Navyakumari    31       2          3           1   \n",
       "8             Gubbala Venkata Nagendra   32       1          3           1   \n",
       "9  Tripuraneni Sai Hari Chandra prasad   36       1          3           1   \n",
       "\n",
       "   Income Digital_India_Awarness  Area  \n",
       "0  302615                    Yes     2  \n",
       "1  556992                    Yes     1  \n",
       "2  440355                    Yes     1  \n",
       "3  494852                    Yes     1  \n",
       "4  208228                    Yes     1  \n",
       "5  238130                    Yes     1  \n",
       "6  556992                    Yes     2  \n",
       "7  346405                    Yes     2  \n",
       "8  556992                    Yes     2  \n",
       "9  307165                    Yes     2  "
      ]
     },
     "execution_count": 13,
     "metadata": {},
     "output_type": "execute_result"
    }
   ],
   "source": [
    "df_demo.head(10)"
   ]
  },
  {
   "cell_type": "code",
   "execution_count": 4,
   "id": "2ea7bf5b",
   "metadata": {},
   "outputs": [],
   "source": [
    "#df_demo.drop('Unnamed: 8',axis=1,inplace=True)"
   ]
  },
  {
   "cell_type": "code",
   "execution_count": 5,
   "id": "b0d1f94c",
   "metadata": {},
   "outputs": [
    {
     "data": {
      "text/html": [
       "<div>\n",
       "<style scoped>\n",
       "    .dataframe tbody tr th:only-of-type {\n",
       "        vertical-align: middle;\n",
       "    }\n",
       "\n",
       "    .dataframe tbody tr th {\n",
       "        vertical-align: top;\n",
       "    }\n",
       "\n",
       "    .dataframe thead th {\n",
       "        text-align: right;\n",
       "    }\n",
       "</style>\n",
       "<table border=\"1\" class=\"dataframe\">\n",
       "  <thead>\n",
       "    <tr style=\"text-align: right;\">\n",
       "      <th></th>\n",
       "      <th>Name</th>\n",
       "      <th>Age</th>\n",
       "      <th>Gender</th>\n",
       "      <th>Education</th>\n",
       "      <th>Occupation</th>\n",
       "      <th>Income</th>\n",
       "      <th>Digital_India_Awarness</th>\n",
       "      <th>Area</th>\n",
       "    </tr>\n",
       "  </thead>\n",
       "  <tbody>\n",
       "    <tr>\n",
       "      <th>0</th>\n",
       "      <td>Yamijala Suryanarayana Murthy</td>\n",
       "      <td>27</td>\n",
       "      <td>1</td>\n",
       "      <td>4</td>\n",
       "      <td>2</td>\n",
       "      <td>302615</td>\n",
       "      <td>Yes</td>\n",
       "      <td>2</td>\n",
       "    </tr>\n",
       "    <tr>\n",
       "      <th>1</th>\n",
       "      <td>Mr.MARUSANI GOVARDHAN REDDY</td>\n",
       "      <td>32</td>\n",
       "      <td>1</td>\n",
       "      <td>3</td>\n",
       "      <td>2</td>\n",
       "      <td>556992</td>\n",
       "      <td>Yes</td>\n",
       "      <td>1</td>\n",
       "    </tr>\n",
       "    <tr>\n",
       "      <th>2</th>\n",
       "      <td>Deepthi</td>\n",
       "      <td>32</td>\n",
       "      <td>2</td>\n",
       "      <td>3</td>\n",
       "      <td>1</td>\n",
       "      <td>440355</td>\n",
       "      <td>Yes</td>\n",
       "      <td>1</td>\n",
       "    </tr>\n",
       "    <tr>\n",
       "      <th>3</th>\n",
       "      <td>Santhosh Kumar</td>\n",
       "      <td>36</td>\n",
       "      <td>1</td>\n",
       "      <td>2</td>\n",
       "      <td>1</td>\n",
       "      <td>494852</td>\n",
       "      <td>Yes</td>\n",
       "      <td>1</td>\n",
       "    </tr>\n",
       "    <tr>\n",
       "      <th>4</th>\n",
       "      <td>Purnima</td>\n",
       "      <td>35</td>\n",
       "      <td>2</td>\n",
       "      <td>2</td>\n",
       "      <td>1</td>\n",
       "      <td>208228</td>\n",
       "      <td>Yes</td>\n",
       "      <td>1</td>\n",
       "    </tr>\n",
       "  </tbody>\n",
       "</table>\n",
       "</div>"
      ],
      "text/plain": [
       "                            Name  Age  Gender  Education  Occupation  Income  \\\n",
       "0  Yamijala Suryanarayana Murthy   27       1          4           2  302615   \n",
       "1    Mr.MARUSANI GOVARDHAN REDDY   32       1          3           2  556992   \n",
       "2                        Deepthi   32       2          3           1  440355   \n",
       "3                 Santhosh Kumar   36       1          2           1  494852   \n",
       "4                        Purnima   35       2          2           1  208228   \n",
       "\n",
       "  Digital_India_Awarness  Area  \n",
       "0                    Yes     2  \n",
       "1                    Yes     1  \n",
       "2                    Yes     1  \n",
       "3                    Yes     1  \n",
       "4                    Yes     1  "
      ]
     },
     "execution_count": 5,
     "metadata": {},
     "output_type": "execute_result"
    }
   ],
   "source": [
    "df_demo.head()"
   ]
  },
  {
   "cell_type": "code",
   "execution_count": 6,
   "id": "812735e9",
   "metadata": {},
   "outputs": [
    {
     "name": "stdout",
     "output_type": "stream",
     "text": [
      "Name - 0.0%\n",
      "Age - 0.0%\n",
      "Gender - 0.0%\n",
      "Education - 0.0%\n",
      "Occupation - 0.0%\n",
      "Income - 0.0%\n",
      "Digital_India_Awarness - 0.0%\n",
      "Area - 0.0%\n"
     ]
    }
   ],
   "source": [
    "# Determining null values using for loop\n",
    "\n",
    "for null in df_demo.columns:\n",
    "    missing = np.mean(df_demo[null].isnull())\n",
    "    print('{} - {}%'.format(null,missing))\n",
    "\n"
   ]
  },
  {
   "cell_type": "code",
   "execution_count": 28,
   "id": "5d0f1118",
   "metadata": {},
   "outputs": [],
   "source": [
    "demo_update = df_demo.fillna(value = 0)"
   ]
  },
  {
   "cell_type": "code",
   "execution_count": 29,
   "id": "98219e2e",
   "metadata": {},
   "outputs": [
    {
     "data": {
      "text/plain": [
       "Name                      object\n",
       "Age                        int64\n",
       "Gender                     int64\n",
       "Education                  int64\n",
       "Occupation                 int64\n",
       "Income                     int64\n",
       "Digital_India_Awarness    object\n",
       "Area                       int64\n",
       "dtype: object"
      ]
     },
     "execution_count": 29,
     "metadata": {},
     "output_type": "execute_result"
    }
   ],
   "source": [
    "# Data Types\n",
    "demo_update.dtypes"
   ]
  },
  {
   "cell_type": "code",
   "execution_count": 30,
   "id": "001acc05",
   "metadata": {},
   "outputs": [
    {
     "data": {
      "text/plain": [
       "count    1.920000e+02\n",
       "mean     4.544491e+05\n",
       "std      3.234671e+05\n",
       "min      2.019770e+05\n",
       "25%      2.898540e+05\n",
       "50%      4.089585e+05\n",
       "75%      4.717330e+05\n",
       "max      1.883250e+06\n",
       "Name: Income, dtype: float64"
      ]
     },
     "execution_count": 30,
     "metadata": {},
     "output_type": "execute_result"
    }
   ],
   "source": [
    "# Descriptive Statistics\n",
    "\n",
    "demo_update['Income'].describe()"
   ]
  },
  {
   "cell_type": "code",
   "execution_count": 31,
   "id": "d97f4dda",
   "metadata": {},
   "outputs": [],
   "source": [
    "# Change data type of columns\n",
    "\n",
    "demo_update['Age'] = demo_update['Age'].astype('int64')\n",
    "\n",
    "demo_update['Gender'] = demo_update['Gender'].astype('int64')\n",
    "\n",
    "demo_update['Education'] = demo_update['Education'].astype('int64')\n",
    "\n",
    "demo_update['Occupation'] = demo_update['Occupation'].astype('int64')\n",
    "\n",
    "demo_update['Income'] = demo_update['Income'].astype('int64')\n",
    "\n",
    "demo_update['Area'] = demo_update['Area'].astype('int64')"
   ]
  },
  {
   "cell_type": "code",
   "execution_count": 32,
   "id": "994cc567",
   "metadata": {},
   "outputs": [
    {
     "data": {
      "text/plain": [
       "count    192.000000\n",
       "mean      25.416667\n",
       "std        5.049839\n",
       "min       18.000000\n",
       "25%       22.000000\n",
       "50%       25.000000\n",
       "75%       28.000000\n",
       "max       40.000000\n",
       "Name: Age, dtype: float64"
      ]
     },
     "execution_count": 32,
     "metadata": {},
     "output_type": "execute_result"
    }
   ],
   "source": [
    "demo_update['Age'].describe()"
   ]
  },
  {
   "cell_type": "code",
   "execution_count": 33,
   "id": "c2e2653c",
   "metadata": {},
   "outputs": [
    {
     "data": {
      "text/html": [
       "<div>\n",
       "<style scoped>\n",
       "    .dataframe tbody tr th:only-of-type {\n",
       "        vertical-align: middle;\n",
       "    }\n",
       "\n",
       "    .dataframe tbody tr th {\n",
       "        vertical-align: top;\n",
       "    }\n",
       "\n",
       "    .dataframe thead th {\n",
       "        text-align: right;\n",
       "    }\n",
       "</style>\n",
       "<table border=\"1\" class=\"dataframe\">\n",
       "  <thead>\n",
       "    <tr style=\"text-align: right;\">\n",
       "      <th></th>\n",
       "      <th>Name</th>\n",
       "      <th>Jio_Ecosystem_Awarness</th>\n",
       "      <th>Most_Preferred_Product</th>\n",
       "      <th>Product_Usage</th>\n",
       "      <th>Jio_Expense</th>\n",
       "      <th>Jio_TimeSpent</th>\n",
       "    </tr>\n",
       "  </thead>\n",
       "  <tbody>\n",
       "    <tr>\n",
       "      <th>0</th>\n",
       "      <td>Yamijala Suryanarayana Murthy</td>\n",
       "      <td>Yes</td>\n",
       "      <td>Jio TV</td>\n",
       "      <td>Daily</td>\n",
       "      <td>Low</td>\n",
       "      <td>120</td>\n",
       "    </tr>\n",
       "    <tr>\n",
       "      <th>1</th>\n",
       "      <td>Mr.MARUSANI GOVARDHAN REDDY</td>\n",
       "      <td>Yes</td>\n",
       "      <td>Jio Telecom</td>\n",
       "      <td>Once a Week</td>\n",
       "      <td>Medium</td>\n",
       "      <td>180</td>\n",
       "    </tr>\n",
       "    <tr>\n",
       "      <th>2</th>\n",
       "      <td>Deepthi</td>\n",
       "      <td>Yes</td>\n",
       "      <td>Jio Saavn music</td>\n",
       "      <td>Once a Month</td>\n",
       "      <td>Low</td>\n",
       "      <td>60</td>\n",
       "    </tr>\n",
       "    <tr>\n",
       "      <th>3</th>\n",
       "      <td>Santhosh Kumar</td>\n",
       "      <td>Yes</td>\n",
       "      <td>Jio TV</td>\n",
       "      <td>Daily</td>\n",
       "      <td>Low</td>\n",
       "      <td>120</td>\n",
       "    </tr>\n",
       "    <tr>\n",
       "      <th>4</th>\n",
       "      <td>Purnima</td>\n",
       "      <td>Yes</td>\n",
       "      <td>Jio TV</td>\n",
       "      <td>Once a Month</td>\n",
       "      <td>Medium</td>\n",
       "      <td>120</td>\n",
       "    </tr>\n",
       "    <tr>\n",
       "      <th>5</th>\n",
       "      <td>G.hima sri</td>\n",
       "      <td>Yes</td>\n",
       "      <td>Jio TV</td>\n",
       "      <td>Daily</td>\n",
       "      <td>Medium</td>\n",
       "      <td>180</td>\n",
       "    </tr>\n",
       "    <tr>\n",
       "      <th>6</th>\n",
       "      <td>Amina Kausar</td>\n",
       "      <td>Yes</td>\n",
       "      <td>Jio Cinema</td>\n",
       "      <td>Twice a Month</td>\n",
       "      <td>Low</td>\n",
       "      <td>120</td>\n",
       "    </tr>\n",
       "    <tr>\n",
       "      <th>7</th>\n",
       "      <td>Kuppiraju Navyakumari</td>\n",
       "      <td>Yes</td>\n",
       "      <td>Jio Mart</td>\n",
       "      <td>Twice a Month</td>\n",
       "      <td>High</td>\n",
       "      <td>120</td>\n",
       "    </tr>\n",
       "    <tr>\n",
       "      <th>8</th>\n",
       "      <td>Gubbala Venkata Nagendra</td>\n",
       "      <td>Yes</td>\n",
       "      <td>Jio Telecom</td>\n",
       "      <td>Daily</td>\n",
       "      <td>Medium</td>\n",
       "      <td>240</td>\n",
       "    </tr>\n",
       "    <tr>\n",
       "      <th>9</th>\n",
       "      <td>Tripuraneni Sai Hari Chandra prasad</td>\n",
       "      <td>Yes</td>\n",
       "      <td>Jio Fiber Broadband Internet</td>\n",
       "      <td>Daily</td>\n",
       "      <td>Medium</td>\n",
       "      <td>180</td>\n",
       "    </tr>\n",
       "  </tbody>\n",
       "</table>\n",
       "</div>"
      ],
      "text/plain": [
       "                                  Name Jio_Ecosystem_Awarness  \\\n",
       "0        Yamijala Suryanarayana Murthy                    Yes   \n",
       "1          Mr.MARUSANI GOVARDHAN REDDY                    Yes   \n",
       "2                              Deepthi                    Yes   \n",
       "3                       Santhosh Kumar                    Yes   \n",
       "4                              Purnima                    Yes   \n",
       "5                           G.hima sri                    Yes   \n",
       "6                         Amina Kausar                    Yes   \n",
       "7               Kuppiraju Navyakumari                     Yes   \n",
       "8             Gubbala Venkata Nagendra                    Yes   \n",
       "9  Tripuraneni Sai Hari Chandra prasad                    Yes   \n",
       "\n",
       "         Most_Preferred_Product  Product_Usage Jio_Expense  Jio_TimeSpent  \n",
       "0                        Jio TV          Daily         Low            120  \n",
       "1                   Jio Telecom    Once a Week      Medium            180  \n",
       "2               Jio Saavn music   Once a Month         Low             60  \n",
       "3                        Jio TV          Daily         Low            120  \n",
       "4                        Jio TV   Once a Month      Medium            120  \n",
       "5                        Jio TV          Daily      Medium            180  \n",
       "6                    Jio Cinema  Twice a Month         Low            120  \n",
       "7                      Jio Mart  Twice a Month        High            120  \n",
       "8                   Jio Telecom          Daily      Medium            240  \n",
       "9  Jio Fiber Broadband Internet          Daily      Medium            180  "
      ]
     },
     "execution_count": 33,
     "metadata": {},
     "output_type": "execute_result"
    }
   ],
   "source": [
    "# Reading Products File\n",
    "\n",
    "df_products = pd.read_csv('F:\\MBA PVPSIT\\MBA Final\\Reliance Project\\Excel Files\\Reliance_Products.csv')\n",
    "df_products.head(10)"
   ]
  },
  {
   "cell_type": "code",
   "execution_count": 34,
   "id": "db32d655",
   "metadata": {},
   "outputs": [
    {
     "name": "stdout",
     "output_type": "stream",
     "text": [
      "Name 0.0\n",
      "Jio_Ecosystem_Awarness 0.0\n",
      "Most_Preferred_Product 0.0\n",
      "Product_Usage 0.0\n",
      "Jio_Expense 0.0\n",
      "Jio_TimeSpent 0.0\n"
     ]
    }
   ],
   "source": [
    "for null in df_products.columns:\n",
    "    missingP = np.mean(df_products[null].isnull())\n",
    "    print(null,missingP)"
   ]
  },
  {
   "cell_type": "code",
   "execution_count": 35,
   "id": "f4dfed8a",
   "metadata": {},
   "outputs": [
    {
     "data": {
      "text/html": [
       "<div>\n",
       "<style scoped>\n",
       "    .dataframe tbody tr th:only-of-type {\n",
       "        vertical-align: middle;\n",
       "    }\n",
       "\n",
       "    .dataframe tbody tr th {\n",
       "        vertical-align: top;\n",
       "    }\n",
       "\n",
       "    .dataframe thead th {\n",
       "        text-align: right;\n",
       "    }\n",
       "</style>\n",
       "<table border=\"1\" class=\"dataframe\">\n",
       "  <thead>\n",
       "    <tr style=\"text-align: right;\">\n",
       "      <th></th>\n",
       "      <th>Name</th>\n",
       "      <th>Infrastructure_4GNetwork</th>\n",
       "      <th>Offers_Reach</th>\n",
       "      <th>Quality_Of_Products</th>\n",
       "      <th>Tariff_Rates</th>\n",
       "      <th>Network_Portability</th>\n",
       "      <th>Online_Streaming</th>\n",
       "      <th>Easiness_Of_Apps</th>\n",
       "      <th>Easiness_Of_Payment_Systems</th>\n",
       "      <th>Penetration_Market_Ecosystem</th>\n",
       "      <th>Changing_View_Of_Shopping</th>\n",
       "      <th>Frequency_Of_Downloading</th>\n",
       "      <th>Affordable_Price_Rates</th>\n",
       "      <th>Strong_Push_Towards_Start-Up_Initiation</th>\n",
       "      <th>Broad_Range_Of_Services_Offered</th>\n",
       "      <th>App_Downloads_Frequency</th>\n",
       "    </tr>\n",
       "  </thead>\n",
       "  <tbody>\n",
       "    <tr>\n",
       "      <th>0</th>\n",
       "      <td>Yamijala Suryanarayana Murthy</td>\n",
       "      <td>0</td>\n",
       "      <td>0</td>\n",
       "      <td>0</td>\n",
       "      <td>0</td>\n",
       "      <td>0</td>\n",
       "      <td>0</td>\n",
       "      <td>1</td>\n",
       "      <td>0</td>\n",
       "      <td>1</td>\n",
       "      <td>0</td>\n",
       "      <td>1</td>\n",
       "      <td>0</td>\n",
       "      <td>0</td>\n",
       "      <td>0</td>\n",
       "      <td>0</td>\n",
       "    </tr>\n",
       "    <tr>\n",
       "      <th>1</th>\n",
       "      <td>Mr.MARUSANI GOVARDHAN REDDY</td>\n",
       "      <td>0</td>\n",
       "      <td>0</td>\n",
       "      <td>0</td>\n",
       "      <td>0</td>\n",
       "      <td>0</td>\n",
       "      <td>0</td>\n",
       "      <td>0</td>\n",
       "      <td>0</td>\n",
       "      <td>0</td>\n",
       "      <td>0</td>\n",
       "      <td>0</td>\n",
       "      <td>0</td>\n",
       "      <td>0</td>\n",
       "      <td>0</td>\n",
       "      <td>0</td>\n",
       "    </tr>\n",
       "    <tr>\n",
       "      <th>2</th>\n",
       "      <td>Deepthi</td>\n",
       "      <td>0</td>\n",
       "      <td>0</td>\n",
       "      <td>0</td>\n",
       "      <td>0</td>\n",
       "      <td>0</td>\n",
       "      <td>0</td>\n",
       "      <td>0</td>\n",
       "      <td>0</td>\n",
       "      <td>0</td>\n",
       "      <td>0</td>\n",
       "      <td>0</td>\n",
       "      <td>0</td>\n",
       "      <td>0</td>\n",
       "      <td>0</td>\n",
       "      <td>0</td>\n",
       "    </tr>\n",
       "    <tr>\n",
       "      <th>3</th>\n",
       "      <td>Santhosh Kumar</td>\n",
       "      <td>0</td>\n",
       "      <td>0</td>\n",
       "      <td>0</td>\n",
       "      <td>0</td>\n",
       "      <td>0</td>\n",
       "      <td>1</td>\n",
       "      <td>1</td>\n",
       "      <td>1</td>\n",
       "      <td>1</td>\n",
       "      <td>0</td>\n",
       "      <td>0</td>\n",
       "      <td>0</td>\n",
       "      <td>1</td>\n",
       "      <td>0</td>\n",
       "      <td>1</td>\n",
       "    </tr>\n",
       "    <tr>\n",
       "      <th>4</th>\n",
       "      <td>Purnima</td>\n",
       "      <td>0</td>\n",
       "      <td>0</td>\n",
       "      <td>0</td>\n",
       "      <td>0</td>\n",
       "      <td>0</td>\n",
       "      <td>0</td>\n",
       "      <td>0</td>\n",
       "      <td>0</td>\n",
       "      <td>0</td>\n",
       "      <td>0</td>\n",
       "      <td>0</td>\n",
       "      <td>0</td>\n",
       "      <td>0</td>\n",
       "      <td>0</td>\n",
       "      <td>0</td>\n",
       "    </tr>\n",
       "    <tr>\n",
       "      <th>5</th>\n",
       "      <td>G.hima sri</td>\n",
       "      <td>0</td>\n",
       "      <td>0</td>\n",
       "      <td>0</td>\n",
       "      <td>0</td>\n",
       "      <td>0</td>\n",
       "      <td>0</td>\n",
       "      <td>0</td>\n",
       "      <td>0</td>\n",
       "      <td>0</td>\n",
       "      <td>0</td>\n",
       "      <td>0</td>\n",
       "      <td>0</td>\n",
       "      <td>0</td>\n",
       "      <td>0</td>\n",
       "      <td>0</td>\n",
       "    </tr>\n",
       "    <tr>\n",
       "      <th>6</th>\n",
       "      <td>Amina Kausar</td>\n",
       "      <td>0</td>\n",
       "      <td>0</td>\n",
       "      <td>0</td>\n",
       "      <td>1</td>\n",
       "      <td>1</td>\n",
       "      <td>0</td>\n",
       "      <td>0</td>\n",
       "      <td>0</td>\n",
       "      <td>0</td>\n",
       "      <td>0</td>\n",
       "      <td>0</td>\n",
       "      <td>0</td>\n",
       "      <td>0</td>\n",
       "      <td>0</td>\n",
       "      <td>1</td>\n",
       "    </tr>\n",
       "    <tr>\n",
       "      <th>7</th>\n",
       "      <td>Kuppiraju Navyakumari</td>\n",
       "      <td>0</td>\n",
       "      <td>0</td>\n",
       "      <td>0</td>\n",
       "      <td>0</td>\n",
       "      <td>0</td>\n",
       "      <td>0</td>\n",
       "      <td>0</td>\n",
       "      <td>0</td>\n",
       "      <td>0</td>\n",
       "      <td>0</td>\n",
       "      <td>0</td>\n",
       "      <td>0</td>\n",
       "      <td>0</td>\n",
       "      <td>0</td>\n",
       "      <td>0</td>\n",
       "    </tr>\n",
       "  </tbody>\n",
       "</table>\n",
       "</div>"
      ],
      "text/plain": [
       "                            Name  Infrastructure_4GNetwork  Offers_Reach  \\\n",
       "0  Yamijala Suryanarayana Murthy                         0             0   \n",
       "1    Mr.MARUSANI GOVARDHAN REDDY                         0             0   \n",
       "2                        Deepthi                         0             0   \n",
       "3                 Santhosh Kumar                         0             0   \n",
       "4                        Purnima                         0             0   \n",
       "5                     G.hima sri                         0             0   \n",
       "6                   Amina Kausar                         0             0   \n",
       "7         Kuppiraju Navyakumari                          0             0   \n",
       "\n",
       "   Quality_Of_Products  Tariff_Rates  Network_Portability  Online_Streaming  \\\n",
       "0                    0             0                    0                 0   \n",
       "1                    0             0                    0                 0   \n",
       "2                    0             0                    0                 0   \n",
       "3                    0             0                    0                 1   \n",
       "4                    0             0                    0                 0   \n",
       "5                    0             0                    0                 0   \n",
       "6                    0             1                    1                 0   \n",
       "7                    0             0                    0                 0   \n",
       "\n",
       "   Easiness_Of_Apps  Easiness_Of_Payment_Systems  \\\n",
       "0                 1                            0   \n",
       "1                 0                            0   \n",
       "2                 0                            0   \n",
       "3                 1                            1   \n",
       "4                 0                            0   \n",
       "5                 0                            0   \n",
       "6                 0                            0   \n",
       "7                 0                            0   \n",
       "\n",
       "   Penetration_Market_Ecosystem  Changing_View_Of_Shopping  \\\n",
       "0                             1                          0   \n",
       "1                             0                          0   \n",
       "2                             0                          0   \n",
       "3                             1                          0   \n",
       "4                             0                          0   \n",
       "5                             0                          0   \n",
       "6                             0                          0   \n",
       "7                             0                          0   \n",
       "\n",
       "   Frequency_Of_Downloading  Affordable_Price_Rates  \\\n",
       "0                         1                       0   \n",
       "1                         0                       0   \n",
       "2                         0                       0   \n",
       "3                         0                       0   \n",
       "4                         0                       0   \n",
       "5                         0                       0   \n",
       "6                         0                       0   \n",
       "7                         0                       0   \n",
       "\n",
       "   Strong_Push_Towards_Start-Up_Initiation  Broad_Range_Of_Services_Offered  \\\n",
       "0                                        0                                0   \n",
       "1                                        0                                0   \n",
       "2                                        0                                0   \n",
       "3                                        1                                0   \n",
       "4                                        0                                0   \n",
       "5                                        0                                0   \n",
       "6                                        0                                0   \n",
       "7                                        0                                0   \n",
       "\n",
       "   App_Downloads_Frequency  \n",
       "0                        0  \n",
       "1                        0  \n",
       "2                        0  \n",
       "3                        1  \n",
       "4                        0  \n",
       "5                        0  \n",
       "6                        1  \n",
       "7                        0  "
      ]
     },
     "execution_count": 35,
     "metadata": {},
     "output_type": "execute_result"
    }
   ],
   "source": [
    "# Reading Favourable Factors\n",
    "\n",
    "df_favourable = pd.read_csv('F:\\MBA PVPSIT\\MBA Final\\Reliance Project\\Excel Files\\Reliance_Favourable.csv')\n",
    "df_favourable.head(8)"
   ]
  },
  {
   "cell_type": "code",
   "execution_count": 36,
   "id": "6ed855e9",
   "metadata": {},
   "outputs": [],
   "source": [
    "# Files Merged\n",
    "\n",
    "demo_products = demo_update.merge(df_products,on='Name')"
   ]
  },
  {
   "cell_type": "code",
   "execution_count": 37,
   "id": "ab493a45",
   "metadata": {},
   "outputs": [],
   "source": [
    "final = demo_products.merge(df_favourable,on='Name')"
   ]
  },
  {
   "cell_type": "code",
   "execution_count": 39,
   "id": "c0238fd1",
   "metadata": {},
   "outputs": [
    {
     "data": {
      "text/html": [
       "<div>\n",
       "<style scoped>\n",
       "    .dataframe tbody tr th:only-of-type {\n",
       "        vertical-align: middle;\n",
       "    }\n",
       "\n",
       "    .dataframe tbody tr th {\n",
       "        vertical-align: top;\n",
       "    }\n",
       "\n",
       "    .dataframe thead th {\n",
       "        text-align: right;\n",
       "    }\n",
       "</style>\n",
       "<table border=\"1\" class=\"dataframe\">\n",
       "  <thead>\n",
       "    <tr style=\"text-align: right;\">\n",
       "      <th></th>\n",
       "      <th>Name</th>\n",
       "      <th>Age</th>\n",
       "      <th>Gender</th>\n",
       "      <th>Education</th>\n",
       "      <th>Occupation</th>\n",
       "      <th>Income</th>\n",
       "      <th>Digital_India_Awarness</th>\n",
       "      <th>Area</th>\n",
       "      <th>Jio_Ecosystem_Awarness</th>\n",
       "      <th>Most_Preferred_Product</th>\n",
       "      <th>...</th>\n",
       "      <th>Online_Streaming</th>\n",
       "      <th>Easiness_Of_Apps</th>\n",
       "      <th>Easiness_Of_Payment_Systems</th>\n",
       "      <th>Penetration_Market_Ecosystem</th>\n",
       "      <th>Changing_View_Of_Shopping</th>\n",
       "      <th>Frequency_Of_Downloading</th>\n",
       "      <th>Affordable_Price_Rates</th>\n",
       "      <th>Strong_Push_Towards_Start-Up_Initiation</th>\n",
       "      <th>Broad_Range_Of_Services_Offered</th>\n",
       "      <th>App_Downloads_Frequency</th>\n",
       "    </tr>\n",
       "  </thead>\n",
       "  <tbody>\n",
       "    <tr>\n",
       "      <th>0</th>\n",
       "      <td>Yamijala Suryanarayana Murthy</td>\n",
       "      <td>27</td>\n",
       "      <td>1</td>\n",
       "      <td>4</td>\n",
       "      <td>2</td>\n",
       "      <td>302615</td>\n",
       "      <td>Yes</td>\n",
       "      <td>2</td>\n",
       "      <td>Yes</td>\n",
       "      <td>Jio TV</td>\n",
       "      <td>...</td>\n",
       "      <td>0</td>\n",
       "      <td>1</td>\n",
       "      <td>0</td>\n",
       "      <td>1</td>\n",
       "      <td>0</td>\n",
       "      <td>1</td>\n",
       "      <td>0</td>\n",
       "      <td>0</td>\n",
       "      <td>0</td>\n",
       "      <td>0</td>\n",
       "    </tr>\n",
       "    <tr>\n",
       "      <th>1</th>\n",
       "      <td>Mr.MARUSANI GOVARDHAN REDDY</td>\n",
       "      <td>32</td>\n",
       "      <td>1</td>\n",
       "      <td>3</td>\n",
       "      <td>2</td>\n",
       "      <td>556992</td>\n",
       "      <td>Yes</td>\n",
       "      <td>1</td>\n",
       "      <td>Yes</td>\n",
       "      <td>Jio Telecom</td>\n",
       "      <td>...</td>\n",
       "      <td>0</td>\n",
       "      <td>0</td>\n",
       "      <td>0</td>\n",
       "      <td>0</td>\n",
       "      <td>0</td>\n",
       "      <td>0</td>\n",
       "      <td>0</td>\n",
       "      <td>0</td>\n",
       "      <td>0</td>\n",
       "      <td>0</td>\n",
       "    </tr>\n",
       "    <tr>\n",
       "      <th>2</th>\n",
       "      <td>Deepthi</td>\n",
       "      <td>32</td>\n",
       "      <td>2</td>\n",
       "      <td>3</td>\n",
       "      <td>1</td>\n",
       "      <td>440355</td>\n",
       "      <td>Yes</td>\n",
       "      <td>1</td>\n",
       "      <td>Yes</td>\n",
       "      <td>Jio Saavn music</td>\n",
       "      <td>...</td>\n",
       "      <td>0</td>\n",
       "      <td>0</td>\n",
       "      <td>0</td>\n",
       "      <td>0</td>\n",
       "      <td>0</td>\n",
       "      <td>0</td>\n",
       "      <td>0</td>\n",
       "      <td>0</td>\n",
       "      <td>0</td>\n",
       "      <td>0</td>\n",
       "    </tr>\n",
       "  </tbody>\n",
       "</table>\n",
       "<p>3 rows × 28 columns</p>\n",
       "</div>"
      ],
      "text/plain": [
       "                            Name  Age  Gender  Education  Occupation  Income  \\\n",
       "0  Yamijala Suryanarayana Murthy   27       1          4           2  302615   \n",
       "1    Mr.MARUSANI GOVARDHAN REDDY   32       1          3           2  556992   \n",
       "2                        Deepthi   32       2          3           1  440355   \n",
       "\n",
       "  Digital_India_Awarness  Area Jio_Ecosystem_Awarness Most_Preferred_Product  \\\n",
       "0                    Yes     2                    Yes                 Jio TV   \n",
       "1                    Yes     1                    Yes            Jio Telecom   \n",
       "2                    Yes     1                    Yes        Jio Saavn music   \n",
       "\n",
       "   ... Online_Streaming Easiness_Of_Apps  Easiness_Of_Payment_Systems  \\\n",
       "0  ...                0                1                            0   \n",
       "1  ...                0                0                            0   \n",
       "2  ...                0                0                            0   \n",
       "\n",
       "   Penetration_Market_Ecosystem  Changing_View_Of_Shopping  \\\n",
       "0                             1                          0   \n",
       "1                             0                          0   \n",
       "2                             0                          0   \n",
       "\n",
       "   Frequency_Of_Downloading  Affordable_Price_Rates  \\\n",
       "0                         1                       0   \n",
       "1                         0                       0   \n",
       "2                         0                       0   \n",
       "\n",
       "   Strong_Push_Towards_Start-Up_Initiation  Broad_Range_Of_Services_Offered  \\\n",
       "0                                        0                                0   \n",
       "1                                        0                                0   \n",
       "2                                        0                                0   \n",
       "\n",
       "   App_Downloads_Frequency  \n",
       "0                        0  \n",
       "1                        0  \n",
       "2                        0  \n",
       "\n",
       "[3 rows x 28 columns]"
      ]
     },
     "execution_count": 39,
     "metadata": {},
     "output_type": "execute_result"
    }
   ],
   "source": [
    "final.head(3)"
   ]
  },
  {
   "cell_type": "code",
   "execution_count": 19,
   "id": "da8faf73",
   "metadata": {},
   "outputs": [
    {
     "data": {
      "text/plain": [
       "0.0380952380952381"
      ]
     },
     "execution_count": 19,
     "metadata": {},
     "output_type": "execute_result"
    }
   ],
   "source": [
    "# Identify duplicate data\n",
    "np.mean(final.duplicated())"
   ]
  },
  {
   "cell_type": "code",
   "execution_count": 20,
   "id": "8b65bf07",
   "metadata": {},
   "outputs": [
    {
     "data": {
      "text/plain": [
       "array([1801679, 1755327, 1256978, 1634779, 1109002, 1566699, 1066409,\n",
       "       1868637, 1056469, 1227485, 1923588, 1177175, 1633912, 1102968,\n",
       "       1976134, 1868340])"
      ]
     },
     "execution_count": 20,
     "metadata": {},
     "output_type": "execute_result"
    }
   ],
   "source": [
    "Two = np.random.randint(1000000,2000000,16)\n",
    "Two"
   ]
  },
  {
   "cell_type": "code",
   "execution_count": 21,
   "id": "3edd6562",
   "metadata": {},
   "outputs": [
    {
     "data": {
      "text/plain": [
       "array([37, 36, 32, 39, 36, 38, 37, 37])"
      ]
     },
     "execution_count": 21,
     "metadata": {},
     "output_type": "execute_result"
    }
   ],
   "source": [
    "Adult = np.random.randint(31,40,8)\n",
    "Adult"
   ]
  },
  {
   "cell_type": "code",
   "execution_count": 22,
   "id": "2c017873",
   "metadata": {},
   "outputs": [
    {
     "data": {
      "text/plain": [
       "array([20, 24, 29, 26, 27, 27, 22, 23, 18, 25, 21, 25, 25, 20, 21, 19, 26,\n",
       "       22, 29, 26, 23, 23, 26, 20, 19, 20, 21, 23, 23, 26, 20, 28, 29, 26,\n",
       "       27, 22, 20, 19, 18, 28, 26, 25, 29, 26, 28, 19, 20, 29, 24, 18, 26,\n",
       "       27, 18, 24, 21, 25, 27, 19, 27, 21, 28, 22, 20, 21, 21, 24, 29, 29,\n",
       "       28, 27, 28, 27, 18, 24, 20, 22, 29, 22, 25, 27, 29, 29, 23, 20, 28,\n",
       "       19, 20, 19, 27, 23, 22, 25, 22, 26, 23, 19, 27, 27, 26, 20, 27, 25,\n",
       "       22, 25, 24, 22, 20, 24, 29, 23, 18, 20, 21, 25, 22, 25, 27, 21, 20,\n",
       "       29, 22, 19, 27, 21, 24, 20, 22, 24, 18, 21, 18, 23, 18, 21, 25, 27,\n",
       "       26, 29, 28, 28, 23, 21, 24, 21, 24, 29, 19, 23, 28, 22, 25, 27, 22,\n",
       "       20, 23, 29, 21, 23, 21, 18, 25, 20, 24, 22, 26, 28, 18, 21, 20, 27,\n",
       "       21, 28, 25, 19, 27, 24, 28])"
      ]
     },
     "execution_count": 22,
     "metadata": {},
     "output_type": "execute_result"
    }
   ],
   "source": [
    "Teen = np.random.randint(18,30,177)\n",
    "Teen"
   ]
  },
  {
   "cell_type": "code",
   "execution_count": 23,
   "id": "1d4d03bd",
   "metadata": {},
   "outputs": [
    {
     "data": {
      "text/html": [
       "<div>\n",
       "<style scoped>\n",
       "    .dataframe tbody tr th:only-of-type {\n",
       "        vertical-align: middle;\n",
       "    }\n",
       "\n",
       "    .dataframe tbody tr th {\n",
       "        vertical-align: top;\n",
       "    }\n",
       "\n",
       "    .dataframe thead th {\n",
       "        text-align: right;\n",
       "    }\n",
       "</style>\n",
       "<table border=\"1\" class=\"dataframe\">\n",
       "  <thead>\n",
       "    <tr style=\"text-align: right;\">\n",
       "      <th></th>\n",
       "      <th>Age</th>\n",
       "      <th>Gender</th>\n",
       "      <th>Education</th>\n",
       "      <th>Occupation</th>\n",
       "      <th>Income</th>\n",
       "      <th>Area</th>\n",
       "      <th>Jio_TimeSpent</th>\n",
       "      <th>Infrastructure_4GNetwork</th>\n",
       "      <th>Offers_Reach</th>\n",
       "      <th>Quality_Of_Products</th>\n",
       "      <th>...</th>\n",
       "      <th>Online_Streaming</th>\n",
       "      <th>Easiness_Of_Apps</th>\n",
       "      <th>Easiness_Of_Payment_Systems</th>\n",
       "      <th>Penetration_Market_Ecosystem</th>\n",
       "      <th>Changing_View_Of_Shopping</th>\n",
       "      <th>Frequency_Of_Downloading</th>\n",
       "      <th>Affordable_Price_Rates</th>\n",
       "      <th>Strong_Push_Towards_Start-Up_Initiation</th>\n",
       "      <th>Broad_Range_Of_Services_Offered</th>\n",
       "      <th>App_Downloads_Frequency</th>\n",
       "    </tr>\n",
       "  </thead>\n",
       "  <tbody>\n",
       "    <tr>\n",
       "      <th>count</th>\n",
       "      <td>210.000000</td>\n",
       "      <td>210.000000</td>\n",
       "      <td>210.000000</td>\n",
       "      <td>210.000000</td>\n",
       "      <td>2.100000e+02</td>\n",
       "      <td>210.000000</td>\n",
       "      <td>210.000000</td>\n",
       "      <td>210.000000</td>\n",
       "      <td>210.000000</td>\n",
       "      <td>210.000000</td>\n",
       "      <td>...</td>\n",
       "      <td>210.000000</td>\n",
       "      <td>210.000000</td>\n",
       "      <td>210.000000</td>\n",
       "      <td>210.000000</td>\n",
       "      <td>210.00000</td>\n",
       "      <td>210.00000</td>\n",
       "      <td>210.000000</td>\n",
       "      <td>210.000000</td>\n",
       "      <td>210.000000</td>\n",
       "      <td>210.000000</td>\n",
       "    </tr>\n",
       "    <tr>\n",
       "      <th>mean</th>\n",
       "      <td>25.209524</td>\n",
       "      <td>1.500000</td>\n",
       "      <td>2.533333</td>\n",
       "      <td>1.447619</td>\n",
       "      <td>4.439944e+05</td>\n",
       "      <td>1.680952</td>\n",
       "      <td>103.714286</td>\n",
       "      <td>0.028571</td>\n",
       "      <td>0.033333</td>\n",
       "      <td>0.033333</td>\n",
       "      <td>...</td>\n",
       "      <td>0.052381</td>\n",
       "      <td>0.028571</td>\n",
       "      <td>0.038095</td>\n",
       "      <td>0.028571</td>\n",
       "      <td>0.02381</td>\n",
       "      <td>0.02381</td>\n",
       "      <td>0.052381</td>\n",
       "      <td>0.042857</td>\n",
       "      <td>0.038095</td>\n",
       "      <td>0.061905</td>\n",
       "    </tr>\n",
       "    <tr>\n",
       "      <th>std</th>\n",
       "      <td>5.014229</td>\n",
       "      <td>0.501195</td>\n",
       "      <td>0.634972</td>\n",
       "      <td>0.633679</td>\n",
       "      <td>3.124062e+05</td>\n",
       "      <td>0.467221</td>\n",
       "      <td>62.327383</td>\n",
       "      <td>0.166997</td>\n",
       "      <td>0.179934</td>\n",
       "      <td>0.179934</td>\n",
       "      <td>...</td>\n",
       "      <td>0.223326</td>\n",
       "      <td>0.166997</td>\n",
       "      <td>0.191884</td>\n",
       "      <td>0.166997</td>\n",
       "      <td>0.15282</td>\n",
       "      <td>0.15282</td>\n",
       "      <td>0.223326</td>\n",
       "      <td>0.203019</td>\n",
       "      <td>0.191884</td>\n",
       "      <td>0.241558</td>\n",
       "    </tr>\n",
       "    <tr>\n",
       "      <th>min</th>\n",
       "      <td>18.000000</td>\n",
       "      <td>1.000000</td>\n",
       "      <td>1.000000</td>\n",
       "      <td>1.000000</td>\n",
       "      <td>2.019770e+05</td>\n",
       "      <td>1.000000</td>\n",
       "      <td>60.000000</td>\n",
       "      <td>0.000000</td>\n",
       "      <td>0.000000</td>\n",
       "      <td>0.000000</td>\n",
       "      <td>...</td>\n",
       "      <td>0.000000</td>\n",
       "      <td>0.000000</td>\n",
       "      <td>0.000000</td>\n",
       "      <td>0.000000</td>\n",
       "      <td>0.00000</td>\n",
       "      <td>0.00000</td>\n",
       "      <td>0.000000</td>\n",
       "      <td>0.000000</td>\n",
       "      <td>0.000000</td>\n",
       "      <td>0.000000</td>\n",
       "    </tr>\n",
       "    <tr>\n",
       "      <th>25%</th>\n",
       "      <td>22.000000</td>\n",
       "      <td>1.000000</td>\n",
       "      <td>2.000000</td>\n",
       "      <td>1.000000</td>\n",
       "      <td>2.824265e+05</td>\n",
       "      <td>1.000000</td>\n",
       "      <td>60.000000</td>\n",
       "      <td>0.000000</td>\n",
       "      <td>0.000000</td>\n",
       "      <td>0.000000</td>\n",
       "      <td>...</td>\n",
       "      <td>0.000000</td>\n",
       "      <td>0.000000</td>\n",
       "      <td>0.000000</td>\n",
       "      <td>0.000000</td>\n",
       "      <td>0.00000</td>\n",
       "      <td>0.00000</td>\n",
       "      <td>0.000000</td>\n",
       "      <td>0.000000</td>\n",
       "      <td>0.000000</td>\n",
       "      <td>0.000000</td>\n",
       "    </tr>\n",
       "    <tr>\n",
       "      <th>50%</th>\n",
       "      <td>25.000000</td>\n",
       "      <td>1.500000</td>\n",
       "      <td>3.000000</td>\n",
       "      <td>1.000000</td>\n",
       "      <td>3.986730e+05</td>\n",
       "      <td>2.000000</td>\n",
       "      <td>60.000000</td>\n",
       "      <td>0.000000</td>\n",
       "      <td>0.000000</td>\n",
       "      <td>0.000000</td>\n",
       "      <td>...</td>\n",
       "      <td>0.000000</td>\n",
       "      <td>0.000000</td>\n",
       "      <td>0.000000</td>\n",
       "      <td>0.000000</td>\n",
       "      <td>0.00000</td>\n",
       "      <td>0.00000</td>\n",
       "      <td>0.000000</td>\n",
       "      <td>0.000000</td>\n",
       "      <td>0.000000</td>\n",
       "      <td>0.000000</td>\n",
       "    </tr>\n",
       "    <tr>\n",
       "      <th>75%</th>\n",
       "      <td>27.750000</td>\n",
       "      <td>2.000000</td>\n",
       "      <td>3.000000</td>\n",
       "      <td>2.000000</td>\n",
       "      <td>4.682800e+05</td>\n",
       "      <td>2.000000</td>\n",
       "      <td>120.000000</td>\n",
       "      <td>0.000000</td>\n",
       "      <td>0.000000</td>\n",
       "      <td>0.000000</td>\n",
       "      <td>...</td>\n",
       "      <td>0.000000</td>\n",
       "      <td>0.000000</td>\n",
       "      <td>0.000000</td>\n",
       "      <td>0.000000</td>\n",
       "      <td>0.00000</td>\n",
       "      <td>0.00000</td>\n",
       "      <td>0.000000</td>\n",
       "      <td>0.000000</td>\n",
       "      <td>0.000000</td>\n",
       "      <td>0.000000</td>\n",
       "    </tr>\n",
       "    <tr>\n",
       "      <th>max</th>\n",
       "      <td>40.000000</td>\n",
       "      <td>2.000000</td>\n",
       "      <td>4.000000</td>\n",
       "      <td>4.000000</td>\n",
       "      <td>1.883250e+06</td>\n",
       "      <td>2.000000</td>\n",
       "      <td>240.000000</td>\n",
       "      <td>1.000000</td>\n",
       "      <td>1.000000</td>\n",
       "      <td>1.000000</td>\n",
       "      <td>...</td>\n",
       "      <td>1.000000</td>\n",
       "      <td>1.000000</td>\n",
       "      <td>1.000000</td>\n",
       "      <td>1.000000</td>\n",
       "      <td>1.00000</td>\n",
       "      <td>1.00000</td>\n",
       "      <td>1.000000</td>\n",
       "      <td>1.000000</td>\n",
       "      <td>1.000000</td>\n",
       "      <td>1.000000</td>\n",
       "    </tr>\n",
       "  </tbody>\n",
       "</table>\n",
       "<p>8 rows × 22 columns</p>\n",
       "</div>"
      ],
      "text/plain": [
       "              Age      Gender   Education  Occupation        Income  \\\n",
       "count  210.000000  210.000000  210.000000  210.000000  2.100000e+02   \n",
       "mean    25.209524    1.500000    2.533333    1.447619  4.439944e+05   \n",
       "std      5.014229    0.501195    0.634972    0.633679  3.124062e+05   \n",
       "min     18.000000    1.000000    1.000000    1.000000  2.019770e+05   \n",
       "25%     22.000000    1.000000    2.000000    1.000000  2.824265e+05   \n",
       "50%     25.000000    1.500000    3.000000    1.000000  3.986730e+05   \n",
       "75%     27.750000    2.000000    3.000000    2.000000  4.682800e+05   \n",
       "max     40.000000    2.000000    4.000000    4.000000  1.883250e+06   \n",
       "\n",
       "             Area  Jio_TimeSpent  Infrastructure_4GNetwork  Offers_Reach  \\\n",
       "count  210.000000     210.000000                210.000000    210.000000   \n",
       "mean     1.680952     103.714286                  0.028571      0.033333   \n",
       "std      0.467221      62.327383                  0.166997      0.179934   \n",
       "min      1.000000      60.000000                  0.000000      0.000000   \n",
       "25%      1.000000      60.000000                  0.000000      0.000000   \n",
       "50%      2.000000      60.000000                  0.000000      0.000000   \n",
       "75%      2.000000     120.000000                  0.000000      0.000000   \n",
       "max      2.000000     240.000000                  1.000000      1.000000   \n",
       "\n",
       "       Quality_Of_Products  ...  Online_Streaming  Easiness_Of_Apps  \\\n",
       "count           210.000000  ...        210.000000        210.000000   \n",
       "mean              0.033333  ...          0.052381          0.028571   \n",
       "std               0.179934  ...          0.223326          0.166997   \n",
       "min               0.000000  ...          0.000000          0.000000   \n",
       "25%               0.000000  ...          0.000000          0.000000   \n",
       "50%               0.000000  ...          0.000000          0.000000   \n",
       "75%               0.000000  ...          0.000000          0.000000   \n",
       "max               1.000000  ...          1.000000          1.000000   \n",
       "\n",
       "       Easiness_Of_Payment_Systems  Penetration_Market_Ecosystem  \\\n",
       "count                   210.000000                    210.000000   \n",
       "mean                      0.038095                      0.028571   \n",
       "std                       0.191884                      0.166997   \n",
       "min                       0.000000                      0.000000   \n",
       "25%                       0.000000                      0.000000   \n",
       "50%                       0.000000                      0.000000   \n",
       "75%                       0.000000                      0.000000   \n",
       "max                       1.000000                      1.000000   \n",
       "\n",
       "       Changing_View_Of_Shopping  Frequency_Of_Downloading  \\\n",
       "count                  210.00000                 210.00000   \n",
       "mean                     0.02381                   0.02381   \n",
       "std                      0.15282                   0.15282   \n",
       "min                      0.00000                   0.00000   \n",
       "25%                      0.00000                   0.00000   \n",
       "50%                      0.00000                   0.00000   \n",
       "75%                      0.00000                   0.00000   \n",
       "max                      1.00000                   1.00000   \n",
       "\n",
       "       Affordable_Price_Rates  Strong_Push_Towards_Start-Up_Initiation  \\\n",
       "count              210.000000                               210.000000   \n",
       "mean                 0.052381                                 0.042857   \n",
       "std                  0.223326                                 0.203019   \n",
       "min                  0.000000                                 0.000000   \n",
       "25%                  0.000000                                 0.000000   \n",
       "50%                  0.000000                                 0.000000   \n",
       "75%                  0.000000                                 0.000000   \n",
       "max                  1.000000                                 1.000000   \n",
       "\n",
       "       Broad_Range_Of_Services_Offered  App_Downloads_Frequency  \n",
       "count                       210.000000               210.000000  \n",
       "mean                          0.038095                 0.061905  \n",
       "std                           0.191884                 0.241558  \n",
       "min                           0.000000                 0.000000  \n",
       "25%                           0.000000                 0.000000  \n",
       "50%                           0.000000                 0.000000  \n",
       "75%                           0.000000                 0.000000  \n",
       "max                           1.000000                 1.000000  \n",
       "\n",
       "[8 rows x 22 columns]"
      ]
     },
     "execution_count": 23,
     "metadata": {},
     "output_type": "execute_result"
    }
   ],
   "source": [
    "# Descriptive Statistics\n",
    "final.describe()"
   ]
  },
  {
   "cell_type": "markdown",
   "id": "4dfd3dfd",
   "metadata": {},
   "source": [
    "# Exploratory Data Analysis\n"
   ]
  },
  {
   "cell_type": "code",
   "execution_count": 24,
   "id": "d01519bc",
   "metadata": {},
   "outputs": [
    {
     "data": {
      "text/plain": [
       "Index(['Name', 'Age', 'Gender', 'Education', 'Occupation', 'Income',\n",
       "       'Digital_India_Awarness', 'Area', 'Jio_Ecosystem_Awarness',\n",
       "       'Most_Preferred_Product', 'Product_Usage', 'Jio_Expense',\n",
       "       'Jio_TimeSpent', 'Infrastructure_4GNetwork', 'Offers_Reach',\n",
       "       'Quality_Of_Products', 'Tariff_Rates', 'Network_Portability',\n",
       "       'Online_Streaming', 'Easiness_Of_Apps', 'Easiness_Of_Payment_Systems',\n",
       "       'Penetration_Market_Ecosystem', 'Changing_View_Of_Shopping',\n",
       "       'Frequency_Of_Downloading', 'Affordable_Price_Rates',\n",
       "       'Strong_Push_Towards_Start-Up_Initiation',\n",
       "       'Broad_Range_Of_Services_Offered', 'App_Downloads_Frequency'],\n",
       "      dtype='object')"
      ]
     },
     "execution_count": 24,
     "metadata": {},
     "output_type": "execute_result"
    }
   ],
   "source": [
    "final.columns"
   ]
  },
  {
   "cell_type": "code",
   "execution_count": 40,
   "id": "80ef96a2",
   "metadata": {},
   "outputs": [
    {
     "data": {
      "text/plain": [
       "<function matplotlib.pyplot.show(close=None, block=None)>"
      ]
     },
     "execution_count": 40,
     "metadata": {},
     "output_type": "execute_result"
    },
    {
     "data": {
      "image/png": "[encoded data removed]",
      "text/plain": [
       "<Figure size 432x288 with 1 Axes>"
      ]
     },
     "metadata": {
      "needs_background": "light"
     },
     "output_type": "display_data"
    }
   ],
   "source": [
    "# Correlation between Income and Jio_TimeSpent\n",
    "\n",
    "plt.scatter(x=final['Income'],y=final['Jio_TimeSpent'])\n",
    "plt.title(' Income vs Jio Time Spent')\n",
    "plt.xlabel('Income')\n",
    "plt.ylabel('Jio Time Spent')\n",
    "plt.show"
   ]
  },
  {
   "cell_type": "code",
   "execution_count": 26,
   "id": "a7c2150a",
   "metadata": {},
   "outputs": [
    {
     "data": {
      "text/plain": [
       "<AxesSubplot:xlabel='Income', ylabel='Jio_TimeSpent'>"
      ]
     },
     "execution_count": 26,
     "metadata": {},
     "output_type": "execute_result"
    },
    {
     "data": {
      "image/png": "[encoded data removed]",
      "text/plain": [
       "<Figure size 432x288 with 1 Axes>"
      ]
     },
     "metadata": {
      "needs_background": "light"
     },
     "output_type": "display_data"
    }
   ],
   "source": [
    "sns.regplot(x='Income',y='Jio_TimeSpent',data=final,scatter_kws={\"color\":\"red\"}, line_kws={\"color\":\"blue\"})"
   ]
  },
  {
   "cell_type": "code",
   "execution_count": 52,
   "id": "7209d5d4",
   "metadata": {},
   "outputs": [
    {
     "data": {
      "text/plain": [
       "<seaborn.axisgrid.JointGrid at 0x285435f43a0>"
      ]
     },
     "execution_count": 52,
     "metadata": {},
     "output_type": "execute_result"
    },
    {
     "data": {
      "image/png": "[encoded data removed]",
      "text/plain": [
       "<Figure size 432x432 with 3 Axes>"
      ]
     },
     "metadata": {
      "needs_background": "light"
     },
     "output_type": "display_data"
    }
   ],
   "source": [
    "# Jointplot to show INCOME VS AGE\n",
    "sns.jointplot(x='Age',y='Income',data=final)"
   ]
  },
  {
   "cell_type": "code",
   "execution_count": 87,
   "id": "ffc3ef07",
   "metadata": {},
   "outputs": [
    {
     "data": {
      "text/plain": [
       "Index(['Name', 'Age', 'Gender', 'Education', 'Occupation', 'Income',\n",
       "       'Digital_India_Awarness', 'Area', 'Jio_Ecosystem_Awarness',\n",
       "       'Most_Preferred_Product', 'Product_Usage', 'Jio_Expense',\n",
       "       'Jio_TimeSpent', 'Infrastructure_4GNetwork', 'Offers_Reach',\n",
       "       'Quality_Of_Products', 'Tariff_Rates', 'Network_Portability',\n",
       "       'Online_Streaming', 'Easiness_Of_Apps', 'Easiness_Of_Payment_Systems',\n",
       "       'Penetration_Market_Ecosystem', 'Changing_View_Of_Shopping',\n",
       "       'Frequency_Of_Downloading', 'Affordable_Price_Rates',\n",
       "       'Strong_Push_Towards_Start-Up_Initiation',\n",
       "       'Broad_Range_Of_Services_Offered', 'App_Downloads_Frequency'],\n",
       "      dtype='object')"
      ]
     },
     "execution_count": 87,
     "metadata": {},
     "output_type": "execute_result"
    }
   ],
   "source": [
    "final.columns"
   ]
  },
  {
   "cell_type": "code",
   "execution_count": 29,
   "id": "277f4c86",
   "metadata": {},
   "outputs": [
    {
     "name": "stderr",
     "output_type": "stream",
     "text": [
      "C:\\Users\\hp\\anaconda3\\lib\\site-packages\\seaborn\\_decorators.py:36: FutureWarning: Pass the following variables as keyword args: x, y, data. From version 0.12, the only valid positional argument will be `data`, and passing other arguments without an explicit keyword will result in an error or misinterpretation.\n",
      "  warnings.warn(\n"
     ]
    },
    {
     "data": {
      "text/plain": [
       "<seaborn.axisgrid.JointGrid at 0x28544f12040>"
      ]
     },
     "execution_count": 29,
     "metadata": {},
     "output_type": "execute_result"
    },
    {
     "data": {
      "image/png": "[encoded data removed]",
      "text/plain": [
       "<Figure size 432x432 with 3 Axes>"
      ]
     },
     "metadata": {
      "needs_background": "light"
     },
     "output_type": "display_data"
    }
   ],
   "source": [
    "# Age vs Jio time spent in minutes\n",
    "sns.jointplot('Age','Jio_TimeSpent',final,color='red',kind='kde')"
   ]
  },
  {
   "cell_type": "code",
   "execution_count": 30,
   "id": "f20dbe5f",
   "metadata": {},
   "outputs": [
    {
     "name": "stderr",
     "output_type": "stream",
     "text": [
      "C:\\Users\\hp\\anaconda3\\lib\\site-packages\\seaborn\\_decorators.py:36: FutureWarning: Pass the following variables as keyword args: x, y, data. From version 0.12, the only valid positional argument will be `data`, and passing other arguments without an explicit keyword will result in an error or misinterpretation.\n",
      "  warnings.warn(\n"
     ]
    },
    {
     "data": {
      "text/plain": [
       "<seaborn.axisgrid.JointGrid at 0x285450ead90>"
      ]
     },
     "execution_count": 30,
     "metadata": {},
     "output_type": "execute_result"
    },
    {
     "data": {
      "image/png": "[encoded data removed]",
      "text/plain": [
       "<Figure size 432x432 with 3 Axes>"
      ]
     },
     "metadata": {
      "needs_background": "light"
     },
     "output_type": "display_data"
    }
   ],
   "source": [
    "# Income vs Jio Time Spent\n",
    "sns.jointplot('Income','Jio_TimeSpent',final,color='green')"
   ]
  },
  {
   "cell_type": "markdown",
   "id": "26a19e1e",
   "metadata": {},
   "source": [
    "# Logistic Regression - Machine Learning Algorithm"
   ]
  },
  {
   "cell_type": "code",
   "execution_count": 41,
   "id": "69d93c9c",
   "metadata": {},
   "outputs": [],
   "source": [
    "# Split the data into training sets and test sets.\n",
    "\n",
    "from sklearn.model_selection import train_test_split"
   ]
  },
  {
   "cell_type": "code",
   "execution_count": 42,
   "id": "f8086165",
   "metadata": {},
   "outputs": [
    {
     "data": {
      "text/plain": [
       "Index(['Name', 'Age', 'Gender', 'Education', 'Occupation', 'Income',\n",
       "       'Digital_India_Awarness', 'Area', 'Jio_Ecosystem_Awarness',\n",
       "       'Most_Preferred_Product', 'Product_Usage', 'Jio_Expense',\n",
       "       'Jio_TimeSpent', 'Infrastructure_4GNetwork', 'Offers_Reach',\n",
       "       'Quality_Of_Products', 'Tariff_Rates', 'Network_Portability',\n",
       "       'Online_Streaming', 'Easiness_Of_Apps', 'Easiness_Of_Payment_Systems',\n",
       "       'Penetration_Market_Ecosystem', 'Changing_View_Of_Shopping',\n",
       "       'Frequency_Of_Downloading', 'Affordable_Price_Rates',\n",
       "       'Strong_Push_Towards_Start-Up_Initiation',\n",
       "       'Broad_Range_Of_Services_Offered', 'App_Downloads_Frequency'],\n",
       "      dtype='object')"
      ]
     },
     "execution_count": 42,
     "metadata": {},
     "output_type": "execute_result"
    }
   ],
   "source": [
    "final.columns"
   ]
  },
  {
   "cell_type": "code",
   "execution_count": 148,
   "id": "a3f27f1b",
   "metadata": {},
   "outputs": [],
   "source": [
    "# Declaring Variable assuming x as Independent Variable and y as Dependent Variable respectively.\n",
    "\n",
    "x = final[['Age','Income','Gender', 'Education', 'Occupation']]\n",
    "y = final['App_Downloads_Frequency']"
   ]
  },
  {
   "cell_type": "code",
   "execution_count": 149,
   "id": "0a5fea20",
   "metadata": {},
   "outputs": [],
   "source": [
    "x_train, x_test, y_train, y_test = train_test_split(x, y, test_size=0.33, random_state=42)"
   ]
  },
  {
   "cell_type": "code",
   "execution_count": 150,
   "id": "6a7a2b70",
   "metadata": {},
   "outputs": [],
   "source": [
    "#Train and fit a logistic regression model on the training set\n",
    "\n",
    "from sklearn.linear_model import LogisticRegression"
   ]
  },
  {
   "cell_type": "code",
   "execution_count": 151,
   "id": "84c4189d",
   "metadata": {},
   "outputs": [
    {
     "data": {
      "text/plain": [
       "LogisticRegression()"
      ]
     },
     "execution_count": 151,
     "metadata": {},
     "output_type": "execute_result"
    }
   ],
   "source": [
    "logmodel = LogisticRegression()\n",
    "logmodel.fit(x_train,y_train)"
   ]
  },
  {
   "cell_type": "markdown",
   "id": "8b49c6d9",
   "metadata": {},
   "source": [
    "# Predictions and Evaluations - App_Downloads_Frequency"
   ]
  },
  {
   "cell_type": "code",
   "execution_count": 152,
   "id": "fce4b209",
   "metadata": {},
   "outputs": [],
   "source": [
    "predictions = logmodel.predict(x_test)"
   ]
  },
  {
   "cell_type": "code",
   "execution_count": 153,
   "id": "2de2dbc7",
   "metadata": {},
   "outputs": [],
   "source": [
    "# classification report for the model\n",
    "\n",
    "from sklearn.metrics import classification_report, confusion_matrix"
   ]
  },
  {
   "cell_type": "code",
   "execution_count": 154,
   "id": "d4c66eca",
   "metadata": {},
   "outputs": [
    {
     "name": "stdout",
     "output_type": "stream",
     "text": [
      "              precision    recall  f1-score   support\n",
      "\n",
      "           0       0.96      1.00      0.98        67\n",
      "           1       0.00      0.00      0.00         3\n",
      "\n",
      "    accuracy                           0.96        70\n",
      "   macro avg       0.48      0.50      0.49        70\n",
      "weighted avg       0.92      0.96      0.94        70\n",
      "\n",
      "[[67  0]\n",
      " [ 3  0]]\n"
     ]
    },
    {
     "name": "stderr",
     "output_type": "stream",
     "text": [
      "C:\\Users\\hp\\anaconda3\\lib\\site-packages\\sklearn\\metrics\\_classification.py:1245: UndefinedMetricWarning: Precision and F-score are ill-defined and being set to 0.0 in labels with no predicted samples. Use `zero_division` parameter to control this behavior.\n",
      "  _warn_prf(average, modifier, msg_start, len(result))\n",
      "C:\\Users\\hp\\anaconda3\\lib\\site-packages\\sklearn\\metrics\\_classification.py:1245: UndefinedMetricWarning: Precision and F-score are ill-defined and being set to 0.0 in labels with no predicted samples. Use `zero_division` parameter to control this behavior.\n",
      "  _warn_prf(average, modifier, msg_start, len(result))\n",
      "C:\\Users\\hp\\anaconda3\\lib\\site-packages\\sklearn\\metrics\\_classification.py:1245: UndefinedMetricWarning: Precision and F-score are ill-defined and being set to 0.0 in labels with no predicted samples. Use `zero_division` parameter to control this behavior.\n",
      "  _warn_prf(average, modifier, msg_start, len(result))\n"
     ]
    }
   ],
   "source": [
    "print(classification_report(y_test, predictions))\n",
    "print(confusion_matrix(y_test,predictions))"
   ]
  },
  {
   "cell_type": "markdown",
   "id": "cbf2a578",
   "metadata": {},
   "source": [
    "# Neutral Proportion"
   ]
  },
  {
   "cell_type": "code",
   "execution_count": 155,
   "id": "44e56c7a",
   "metadata": {},
   "outputs": [],
   "source": [
    "neutral = pd.read_csv('F:\\MBA PVPSIT\\MBA Final\\Reliance Project\\Excel Files\\Reliance_Favourable_Neutral.csv')"
   ]
  },
  {
   "cell_type": "code",
   "execution_count": 156,
   "id": "1d04a8fb",
   "metadata": {},
   "outputs": [],
   "source": [
    "# Merging demo, products and neutral files\n",
    "neutral_final = demo_products.merge(neutral,on='Name')"
   ]
  },
  {
   "cell_type": "code",
   "execution_count": 157,
   "id": "6cd88404",
   "metadata": {},
   "outputs": [
    {
     "data": {
      "text/plain": [
       "Index(['Name', 'Age', 'Gender', 'Education', 'Occupation', 'Income',\n",
       "       'Digital_India_Awarness', 'Area', 'Jio_Ecosystem_Awarness',\n",
       "       'Most_Preferred_Product', 'Product_Usage', 'Jio_Expense',\n",
       "       'Jio_TimeSpent', 'Infrastructure_4GNetwork', 'Offers_Reach',\n",
       "       'Quality_Of_Products', 'Tariff_Rates', 'Network_Portability',\n",
       "       'Online_Streaming', 'Easiness_Of_Apps', 'Easiness_Of_Payment_Systems',\n",
       "       'Penetration_Market_Ecosystem', 'Changing_View_Of_Shopping',\n",
       "       'Frequency_Of_Downloading', 'Affordable_Price_Rates',\n",
       "       'Strong_Push_Towards_Start-Up_Initiation',\n",
       "       'Broad_Range_Of_Services_Offered', 'App_Downloads_Frequency'],\n",
       "      dtype='object')"
      ]
     },
     "execution_count": 157,
     "metadata": {},
     "output_type": "execute_result"
    }
   ],
   "source": [
    "neutral_final.columns"
   ]
  },
  {
   "cell_type": "code",
   "execution_count": 158,
   "id": "835e32c7",
   "metadata": {},
   "outputs": [],
   "source": [
    "from sklearn.model_selection import train_test_split"
   ]
  },
  {
   "cell_type": "code",
   "execution_count": 159,
   "id": "510872e2",
   "metadata": {},
   "outputs": [],
   "source": [
    "x = neutral_final[['Age','Income','Gender', 'Education', 'Occupation']]\n",
    "y = neutral_final['Infrastructure_4GNetwork', 'Offers_Reach',\n",
    "       'Quality_Of_Products', 'Tariff_Rates', 'Network_Portability',\n",
    "       'Online_Streaming', 'Easiness_Of_Apps', 'Easiness_Of_Payment_Systems',\n",
    "       'Penetration_Market_Ecosystem', 'Changing_View_Of_Shopping',\n",
    "       'Frequency_Of_Downloading', 'Affordable_Price_Rates',\n",
    "       'Strong_Push_Towards_Start-Up_Initiation',\n",
    "       'Broad_Range_Of_Services_Offered', 'App_Downloads_Frequency']"
   ]
  },
  {
   "cell_type": "code",
   "execution_count": 160,
   "id": "7864968c",
   "metadata": {},
   "outputs": [],
   "source": [
    "x_train, x_test, y_train, y_test = train_test_split(x, y, test_size=0.33, random_state=42)"
   ]
  },
  {
   "cell_type": "code",
   "execution_count": 161,
   "id": "1b571ecf",
   "metadata": {},
   "outputs": [],
   "source": [
    "from sklearn.linear_model import LogisticRegression"
   ]
  },
  {
   "cell_type": "code",
   "execution_count": 162,
   "id": "8e8a9e38",
   "metadata": {},
   "outputs": [
    {
     "data": {
      "text/plain": [
       "LogisticRegression()"
      ]
     },
     "execution_count": 162,
     "metadata": {},
     "output_type": "execute_result"
    }
   ],
   "source": [
    "logmodel = LogisticRegression()\n",
    "logmodel.fit(x_train,y_train)"
   ]
  },
  {
   "cell_type": "code",
   "execution_count": 163,
   "id": "173c6a43",
   "metadata": {},
   "outputs": [],
   "source": [
    "predictions = logmodel.predict(x_test)"
   ]
  },
  {
   "cell_type": "code",
   "execution_count": 164,
   "id": "eb492643",
   "metadata": {},
   "outputs": [],
   "source": [
    "from sklearn.metrics import classification_report, confusion_matrix"
   ]
  },
  {
   "cell_type": "code",
   "execution_count": 165,
   "id": "2c3874ae",
   "metadata": {},
   "outputs": [
    {
     "name": "stdout",
     "output_type": "stream",
     "text": [
      "              precision    recall  f1-score   support\n",
      "\n",
      "           0       0.00      0.00      0.00        14\n",
      "           1       0.80      1.00      0.89        56\n",
      "\n",
      "    accuracy                           0.80        70\n",
      "   macro avg       0.40      0.50      0.44        70\n",
      "weighted avg       0.64      0.80      0.71        70\n",
      "\n",
      "[[ 0 14]\n",
      " [ 0 56]]\n"
     ]
    },
    {
     "name": "stderr",
     "output_type": "stream",
     "text": [
      "C:\\Users\\hp\\anaconda3\\lib\\site-packages\\sklearn\\metrics\\_classification.py:1245: UndefinedMetricWarning: Precision and F-score are ill-defined and being set to 0.0 in labels with no predicted samples. Use `zero_division` parameter to control this behavior.\n",
      "  _warn_prf(average, modifier, msg_start, len(result))\n",
      "C:\\Users\\hp\\anaconda3\\lib\\site-packages\\sklearn\\metrics\\_classification.py:1245: UndefinedMetricWarning: Precision and F-score are ill-defined and being set to 0.0 in labels with no predicted samples. Use `zero_division` parameter to control this behavior.\n",
      "  _warn_prf(average, modifier, msg_start, len(result))\n",
      "C:\\Users\\hp\\anaconda3\\lib\\site-packages\\sklearn\\metrics\\_classification.py:1245: UndefinedMetricWarning: Precision and F-score are ill-defined and being set to 0.0 in labels with no predicted samples. Use `zero_division` parameter to control this behavior.\n",
      "  _warn_prf(average, modifier, msg_start, len(result))\n"
     ]
    }
   ],
   "source": [
    "print(classification_report(y_test,predictions))\n",
    "print(confusion_matrix(y_test,predictions))"
   ]
  },
  {
   "cell_type": "code",
   "execution_count": null,
   "id": "33710195",
   "metadata": {},
   "outputs": [],
   "source": []
  }
 ],
 "metadata": {
  "kernelspec": {
   "display_name": "Python 3",
   "language": "python",
   "name": "python3"
  },
  "language_info": {
   "codemirror_mode": {
    "name": "ipython",
    "version": 3
   },
   "file_extension": ".py",
   "mimetype": "text/x-python",
   "name": "python",
   "nbconvert_exporter": "python",
   "pygments_lexer": "ipython3",
   "version": "3.8.8"
  }
 },
 "nbformat": 4,
 "nbformat_minor": 5
}
